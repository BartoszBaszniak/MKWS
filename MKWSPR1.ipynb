{
 "cells": [
  {
   "cell_type": "code",
   "execution_count": 45,
   "metadata": {},
   "outputs": [
    {
     "name": "stdout",
     "output_type": "stream",
     "text": [
      "Paliwo: CH4 , LHV: 50.026 MJ/kg, HHV: 55.512 MJ/kg\n",
      "Paliwo: CH4 , LHV: 49.965 MJ/kg, HHV: 54.868 MJ/kg\n",
      "Paliwo: CH4 , LHV: 49.886 MJ/kg, HHV: 52.521 MJ/kg\n",
      "Paliwo: C3H8 , LHV: 46.352 MJ/kg, HHV: 50.344 MJ/kg\n",
      "Paliwo: C3H8 , LHV: 46.352 MJ/kg, HHV: 50.344 MJ/kg\n",
      "Paliwo: C3H8 , LHV: 46.304 MJ/kg, HHV: 49.872 MJ/kg\n",
      "Paliwo: H2 , LHV: 119.959 MJ/kg, HHV: 141.788 MJ/kg\n",
      "Paliwo: H2 , LHV: 119.959 MJ/kg, HHV: 141.788 MJ/kg\n",
      "Paliwo: H2 , LHV: 120.469 MJ/kg, HHV: 139.980 MJ/kg\n"
     ]
    }
   ],
   "source": [
    "import cantera as ct\n",
    "import numpy as np\n",
    "import matplotlib.pyplot as plt\n",
    "\n",
    "##Deklaracja mieszaniny 1\n",
    "\n",
    "mieszanina= ct.Solution('gri30.cti')\n",
    "produkty = ct.Solution('gri30.cti')\n",
    "gas = ct.Solution('gri30.cti')\n",
    "\n",
    "woda = ct.Water()\n",
    "woda.TX = T1, 0\n",
    "h_ciecz = woda.h\n",
    "\n",
    "woda.TX = T1, 1\n",
    "h_gas= woda.h\n",
    "\n",
    "def cieplo (mieszanka, T, p):                     ## Funkcja wyliczająca Ciepło spalania LHV i HHV\n",
    "    \n",
    "    woda = ct.Water()\n",
    "    woda.TX = T, 0\n",
    "    h_ciecz = woda.h\n",
    "    woda.TX = T, 1\n",
    "    h_gas= woda.h\n",
    "    \n",
    "    mieszanina.TP = T, p\n",
    "    mieszanina.set_equivalence_ratio(1.0, mieszanka, 'O2:1.0')\n",
    "    h1 = mieszanina.enthalpy_mass\n",
    "    S_mieszanka = mieszanina[mieszanka].Y[0]\n",
    "    \n",
    "    S_products = {'CO2': mieszanina.elemental_mole_fraction('C'),\n",
    "                  'H2O': 0.5 * mieszanina.elemental_mole_fraction('H'),\n",
    "                  'N2': 0.5 * mieszanina.elemental_mole_fraction('N')}\n",
    "    produkty.TPX = T,p, S_products\n",
    "    S_H2O = produkty['H2O'].Y[0]\n",
    "    h2 = produkty.enthalpy_mass\n",
    "    LV = -(h2-h1)/S_mieszanka\n",
    "    HV = -(h2-h1 + (h_ciecz-h_gas) * S_H2O)/S_mieszanka\n",
    "    LV=LV/1000000\n",
    "    HV=HV/1000000\n",
    "    print ('Paliwo: %s , LHV: %.3f MJ/kg, HHV: %.3f MJ/kg' %(mieszanka, LV, HV))\n",
    "\n",
    "    \n",
    "##mieszaniny\n",
    "\n",
    "mieszanina_1.TPX = T1,p1, 'CH4:1, O2:2'      \n",
    "produkty_1.TPX = T1, p1, 'CO2:1, H2O:2'\n",
    "\n",
    "T1=298\n",
    "p1=101325\n",
    "T2=400\n",
    "p2=1.5*p1\n",
    "T3=600\n",
    "p3=3*p1\n",
    "\n",
    "cieplo('CH4',T1,p1)\n",
    "cieplo('CH4',T2,p2)\n",
    "cieplo('CH4',T3,p3)\n",
    "\n",
    "##mieszanina 2\n",
    "\n",
    "cieplo('C3H8',T1,p1)\n",
    "cieplo('C3H8',T1,p1)\n",
    "cieplo('C3H8',T2,p2)\n",
    "\n",
    "##mieszanina 3 \n",
    "\n",
    "cieplo('H2',T1,p1)\n",
    "cieplo('H2',T1,p1)\n",
    "cieplo('H2',T2,p2)\n",
    "\n"
   ]
  },
  {
   "cell_type": "code",
   "execution_count": null,
   "metadata": {},
   "outputs": [],
   "source": []
  }
 ],
 "metadata": {
  "kernelspec": {
   "display_name": "Python 2",
   "language": "python",
   "name": "python2"
  },
  "language_info": {
   "codemirror_mode": {
    "name": "ipython",
    "version": 2
   },
   "file_extension": ".py",
   "mimetype": "text/x-python",
   "name": "python",
   "nbconvert_exporter": "python",
   "pygments_lexer": "ipython2",
   "version": "2.7.14"
  }
 },
 "nbformat": 4,
 "nbformat_minor": 2
}
